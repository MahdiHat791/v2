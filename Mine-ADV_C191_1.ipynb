{
  "nbformat": 4,
  "nbformat_minor": 0,
  "metadata": {
    "colab": {
      "name": "ADV-C190.1.ipynb",
      "provenance": [],
      "include_colab_link": true
    },
    "kernelspec": {
      "name": "python3",
      "display_name": "Python 3"
    }
  },
  "cells": [
    {
      "cell_type": "markdown",
      "metadata": {
        "id": "view-in-github",
        "colab_type": "text"
      },
      "source": [
        "<a href=\"https://colab.research.google.com/github/MahdiHat791/v2/blob/master/Mine-ADV_C191_1.ipynb\" target=\"_parent\"><img src=\"https://colab.research.google.com/assets/colab-badge.svg\" alt=\"Open In Colab\"/></a>"
      ]
    },
    {
      "cell_type": "code",
      "metadata": {
        "id": "ba4JLqQeFMzN",
        "outputId": "9231c5fc-6601-4837-feaf-f9aaca4b3885",
        "colab": {
          "base_uri": "https://localhost:8080/"
        }
      },
      "source": [
        "# 1st Additional Activity\n",
        "# 1st Task - Find out which country had sent the first Satellite in space and when \n",
        "# 2nd Task - Find out which country has send a Satellite recently in space\n",
        "\n",
        "import pandas as pd\n",
        "from matplotlib import pyplot as plt\n",
        "\n",
        "dataframe = pd.read_csv('https://shravaripatil.github.io/ADV/AA/C191_satellite_data.csv')\n",
        "df = dataframe.dropna() \n",
        "\n",
        "# Write code to sort the data table stored in variable \"df\" using sort_values() function and store the new table in a variable. \n",
        "# As we want to get the 1st satellite launched so we will use 'Date of Launch' column to sort the table.\n",
        "# (Hint - This function takes a parameter \"by\" which should be assigned a column name in square brackets based on which you want to sort the table.)\n",
        "\n",
        "\n",
        "# We want to print the country name of 1st satellite launched , so we will first select the column and then use head() function to get 1st row ()\n",
        "# (Hint: use variable holding the sorted data table and name of the column to be selected ('Country of Operator/Owner' as this column holds the country names) within sqaure bracket )\n",
        "\n",
        "\n",
        "print(\"----------\")\n",
        "# We want to print the launch date of 1st satellite launched , so we will first select the column and then use head() function to get 1st row ()\n",
        "# (Hint: use variable holding the sorted data table and name of the column to be selected ('Date of Launch' as this column holds the satellites launch date) within sqaure bracket )\n",
        "\n",
        "\n",
        "print(\"----------\")\n",
        "# We want to print the country name of satellite launched recently that is last, so we will first select the column and then use tail() function to get last row ()\n",
        "# (Hint: use variable holding the sorted data table and name of the column to be selected ('Country of Operator/Owner' as this column holds the country names) within sqaure bracket )\n",
        "\n",
        "\n",
        "print(\"----------\")\n",
        "# We want to print the launch date of satellite launched recently that is last, so we will first select the column and then use tail() function to get 1st row ()\n",
        "# (Hint: use variable holding the sorted data table and name of the column to be selected ('Date of Launch' as this column holds the satellites launch date) within sqaure bracket )\n",
        "\n"
      ],
      "execution_count": null,
      "outputs": [
        {
          "output_type": "stream",
          "text": [
            "----------\n",
            "----------\n",
            "----------\n"
          ],
          "name": "stdout"
        }
      ]
    }
  ]
}